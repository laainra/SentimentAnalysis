{
 "cells": [
  {
   "cell_type": "code",
   "execution_count": 1,
   "id": "f7663e15",
   "metadata": {},
   "outputs": [
    {
     "name": "stdout",
     "output_type": "stream",
     "text": [
      "Write a comment: WANG ZIHAO IS SO PRECIOUS 😭 he can choose switch or supercharger but volunteered to go to supercharger to help haruto 😭 he's the warmest & loveliest person ever I LOVE HIM SO MUCH 😭\n",
      "Write an another comment: Your voice is cracking too much, you broke my ear for real\n",
      "Polarity of Text 1 is 0.39999999999999997\n",
      "Polarity of Text 2 is 0.2\n",
      "Subjectivity of Text 1 is 0.6\n",
      "Subjectivity of Text 2 is 0.25\n"
     ]
    }
   ],
   "source": [
    "from textblob import TextBlob\n",
    "\n",
    "# Simple Example Script\n",
    "text_1 = input(\"Write a comment: \")\n",
    "text_2 = input(\"Write an another comment: \")\n",
    "#Determining the Polarity \n",
    "p_1 = TextBlob(text_1).sentiment.polarity\n",
    "p_2 = TextBlob(text_2).sentiment.polarity\n",
    "#Determining the Subjectivity\n",
    "s_1 = TextBlob(text_1).sentiment.subjectivity\n",
    "s_2 = TextBlob(text_2).sentiment.subjectivity\n",
    "print(\"Polarity of Text 1 is\", p_1)\n",
    "print(\"Polarity of Text 2 is\", p_2)\n",
    "print(\"Subjectivity of Text 1 is\", s_1)\n",
    "print(\"Subjectivity of Text 2 is\", s_2)\n"
   ]
  },
  {
   "cell_type": "code",
   "execution_count": null,
   "id": "5192ea80",
   "metadata": {},
   "outputs": [],
   "source": []
  }
 ],
 "metadata": {
  "kernelspec": {
   "display_name": "Python 3 (ipykernel)",
   "language": "python",
   "name": "python3"
  },
  "language_info": {
   "codemirror_mode": {
    "name": "ipython",
    "version": 3
   },
   "file_extension": ".py",
   "mimetype": "text/x-python",
   "name": "python",
   "nbconvert_exporter": "python",
   "pygments_lexer": "ipython3",
   "version": "3.10.6"
  }
 },
 "nbformat": 4,
 "nbformat_minor": 5
}
